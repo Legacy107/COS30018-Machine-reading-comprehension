{
 "cells": [
  {
   "cell_type": "code",
   "execution_count": null,
   "metadata": {
    "_cell_guid": "b1076dfc-b9ad-4769-8c92-a6c4dae69d19",
    "_uuid": "8f2839f25d086af736a60e9eeb907d3b93b6e0e5",
    "execution": {
     "iopub.execute_input": "2023-09-06T13:29:04.869754Z",
     "iopub.status.busy": "2023-09-06T13:29:04.869378Z",
     "iopub.status.idle": "2023-09-06T13:29:32.651457Z",
     "shell.execute_reply": "2023-09-06T13:29:32.649978Z",
     "shell.execute_reply.started": "2023-09-06T13:29:04.869725Z"
    },
    "trusted": true
   },
   "outputs": [],
   "source": [
    "! pip install -q huggingface_hub\n",
    "! pip install -q -U datasets"
   ]
  },
  {
   "cell_type": "code",
   "execution_count": null,
   "metadata": {
    "execution": {
     "iopub.execute_input": "2023-09-06T13:29:32.654331Z",
     "iopub.status.busy": "2023-09-06T13:29:32.653958Z",
     "iopub.status.idle": "2023-09-06T13:29:32.682082Z",
     "shell.execute_reply": "2023-09-06T13:29:32.680931Z",
     "shell.execute_reply.started": "2023-09-06T13:29:32.654299Z"
    },
    "trusted": true
   },
   "outputs": [],
   "source": [
    "from huggingface_hub import notebook_login\n",
    "\n",
    "notebook_login()"
   ]
  },
  {
   "cell_type": "code",
   "execution_count": 5,
   "metadata": {
    "execution": {
     "iopub.execute_input": "2023-09-06T13:29:32.684081Z",
     "iopub.status.busy": "2023-09-06T13:29:32.683753Z",
     "iopub.status.idle": "2023-09-06T13:29:32.690716Z",
     "shell.execute_reply": "2023-09-06T13:29:32.689730Z",
     "shell.execute_reply.started": "2023-09-06T13:29:32.684053Z"
    },
    "trusted": true
   },
   "outputs": [],
   "source": [
    "from pathlib import Path\n",
    "\n",
    "# http://participants-area.bioasq.org/datasets/\n",
    "# training: http://participants-area.bioasq.org/Tasks/10b/trainingDataset/\n",
    "# test: http://participants-area.bioasq.org/Tasks/10b/goldenDataset/\n",
    "path = Path(\"/kaggle/input/bioasq10b\")"
   ]
  },
  {
   "cell_type": "code",
   "execution_count": 6,
   "metadata": {
    "execution": {
     "iopub.execute_input": "2023-09-06T13:29:32.694977Z",
     "iopub.status.busy": "2023-09-06T13:29:32.694527Z",
     "iopub.status.idle": "2023-09-06T13:29:33.943339Z",
     "shell.execute_reply": "2023-09-06T13:29:33.942357Z",
     "shell.execute_reply.started": "2023-09-06T13:29:32.694936Z"
    },
    "trusted": true
   },
   "outputs": [],
   "source": [
    "import pandas as pd\n",
    "from datasets import Dataset, DatasetDict\n",
    "import json"
   ]
  },
  {
   "cell_type": "code",
   "execution_count": 7,
   "metadata": {
    "execution": {
     "iopub.execute_input": "2023-09-06T13:29:33.944988Z",
     "iopub.status.busy": "2023-09-06T13:29:33.944473Z",
     "iopub.status.idle": "2023-09-06T13:29:33.953565Z",
     "shell.execute_reply": "2023-09-06T13:29:33.952520Z",
     "shell.execute_reply.started": "2023-09-06T13:29:33.944958Z"
    },
    "trusted": true
   },
   "outputs": [],
   "source": [
    "def process_data(file):\n",
    "    data = json.load(file)\n",
    "    df = pd.json_normalize(data[\"questions\"])\n",
    "    df = df[df[\"type\"] == \"factoid\"]\n",
    "    df = df.reset_index(drop=True)\n",
    "    df = df[[\"id\", \"body\", \"ideal_answer\", \"exact_answer\", \"snippets\"]]\n",
    "    df.columns = [\"id\", \"question\", \"long_answer\", \"answer\", \"context\"]\n",
    "\n",
    "    df[\"long_answer\"] = df.long_answer.apply(lambda x: x[0])\n",
    "    df[\"answer\"] = df.answer.apply(lambda x: x[0])\n",
    "    df[\"context\"] = df.context.apply(\n",
    "        lambda x: \" \".join([context[\"text\"] for context in x])\n",
    "    )\n",
    "    return df"
   ]
  },
  {
   "cell_type": "code",
   "execution_count": 8,
   "metadata": {
    "execution": {
     "iopub.execute_input": "2023-09-06T13:29:33.955566Z",
     "iopub.status.busy": "2023-09-06T13:29:33.955119Z",
     "iopub.status.idle": "2023-09-06T13:29:34.692193Z",
     "shell.execute_reply": "2023-09-06T13:29:34.691170Z",
     "shell.execute_reply.started": "2023-09-06T13:29:33.955528Z"
    },
    "trusted": true
   },
   "outputs": [],
   "source": [
    "file = open(path / \"training10b.json\")\n",
    "train_df = process_data(file)"
   ]
  },
  {
   "cell_type": "code",
   "execution_count": 9,
   "metadata": {
    "execution": {
     "iopub.execute_input": "2023-09-06T13:29:34.694060Z",
     "iopub.status.busy": "2023-09-06T13:29:34.693694Z",
     "iopub.status.idle": "2023-09-06T13:29:35.043660Z",
     "shell.execute_reply": "2023-09-06T13:29:35.042575Z",
     "shell.execute_reply.started": "2023-09-06T13:29:34.694014Z"
    },
    "trusted": true
   },
   "outputs": [
    {
     "data": {
      "image/png": "[encoded data removed]",
      "text/plain": [
       "<Figure size 640x480 with 1 Axes>"
      ]
     },
     "metadata": {},
     "output_type": "display_data"
    }
   ],
   "source": [
    "train_df[\"length\"] = train_df.context.apply(lambda x: len(x))\n",
    "train_df[\"length\"].hist()\n",
    "train_df = train_df.drop(\"length\", axis=1)"
   ]
  },
  {
   "cell_type": "code",
   "execution_count": 10,
   "metadata": {
    "execution": {
     "iopub.execute_input": "2023-09-06T13:29:35.045984Z",
     "iopub.status.busy": "2023-09-06T13:29:35.045605Z",
     "iopub.status.idle": "2023-09-06T13:29:35.096624Z",
     "shell.execute_reply": "2023-09-06T13:29:35.095733Z",
     "shell.execute_reply.started": "2023-09-06T13:29:35.045952Z"
    },
    "trusted": true
   },
   "outputs": [],
   "source": [
    "hf_dataset = DatasetDict({\"train\": Dataset.from_pandas(train_df), \"test\": []})"
   ]
  },
  {
   "cell_type": "code",
   "execution_count": 26,
   "metadata": {
    "execution": {
     "iopub.execute_input": "2023-09-06T13:38:56.248120Z",
     "iopub.status.busy": "2023-09-06T13:38:56.246720Z",
     "iopub.status.idle": "2023-09-06T13:38:56.338884Z",
     "shell.execute_reply": "2023-09-06T13:38:56.337508Z",
     "shell.execute_reply.started": "2023-09-06T13:38:56.248078Z"
    },
    "trusted": true
   },
   "outputs": [],
   "source": [
    "df_list = []\n",
    "for i in range(1, 7):\n",
    "    filename = f\"10B{i}_golden.json\"\n",
    "    file = open(path / filename)\n",
    "    df = process_data(file)\n",
    "    df[\"answer\"] = df.answer.apply(lambda x: x[0])\n",
    "    df_list.append(df)\n",
    "\n",
    "test_df = pd.concat(df_list)\n",
    "test_df = test_df.reset_index(drop=True)\n",
    "\n",
    "hf_dataset[\"test\"] = Dataset.from_pandas(test_df)"
   ]
  },
  {
   "cell_type": "code",
   "execution_count": null,
   "metadata": {
    "execution": {
     "iopub.execute_input": "2023-09-06T13:39:02.680233Z",
     "iopub.status.busy": "2023-09-06T13:39:02.679837Z",
     "iopub.status.idle": "2023-09-06T13:39:09.704230Z",
     "shell.execute_reply": "2023-09-06T13:39:09.702901Z",
     "shell.execute_reply.started": "2023-09-06T13:39:02.680205Z"
    },
    "trusted": true
   },
   "outputs": [],
   "source": [
    "hf_dataset.push_to_hub(\"bioasq10b\")"
   ]
  }
 ],
 "metadata": {
  "kernelspec": {
   "display_name": "Python 3",
   "language": "python",
   "name": "python3"
  },
  "language_info": {
   "codemirror_mode": {
    "name": "ipython",
    "version": 3
   },
   "file_extension": ".py",
   "mimetype": "text/x-python",
   "name": "python",
   "nbconvert_exporter": "python",
   "pygments_lexer": "ipython3",
   "version": "3.10.12"
  }
 },
 "nbformat": 4,
 "nbformat_minor": 4
}
