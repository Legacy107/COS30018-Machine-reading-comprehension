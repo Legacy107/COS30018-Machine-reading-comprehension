{
 "cells": [
  {
   "cell_type": "code",
   "execution_count": null,
   "metadata": {
    "id": "wPRvNMA37RAc"
   },
   "outputs": [],
   "source": [
    "!pip install huggingface_hub\n",
    "!pip install -q bitsandbytes datasets accelerate loralib\n",
    "!pip install -q git+https://github.com/huggingface/transformers.git@main git+https://github.com/huggingface/peft.git\n",
    "!pip install transformers accelerate evaluate datasets peft -q"
   ]
  },
  {
   "cell_type": "code",
   "execution_count": null,
   "metadata": {
    "id": "wCFQIvpT-9jH"
   },
   "outputs": [],
   "source": [
    "from huggingface_hub import notebook_login\n",
    "\n",
    "notebook_login()"
   ]
  },
  {
   "cell_type": "code",
   "execution_count": null,
   "metadata": {
    "id": "uAyHMmszHM2S"
   },
   "outputs": [],
   "source": [
    "import json\n",
    "from sklearn.model_selection import train_test_split\n",
    "import pandas as pd\n",
    "from datasets import Dataset, DatasetDict\n",
    "from transformers import (\n",
    "    AutoModelForQuestionAnswering,\n",
    "    AutoTokenizer,\n",
    "    DataCollatorWithPadding,\n",
    "    TrainingArguments,\n",
    "    Trainer,\n",
    ")"
   ]
  },
  {
   "cell_type": "code",
   "execution_count": null,
   "metadata": {
    "id": "8_KWe2S0G8cK"
   },
   "outputs": [],
   "source": [
    "file_data_name = \"/content/cpgQA-v1.0.json\""
   ]
  },
  {
   "cell_type": "code",
   "execution_count": null,
   "metadata": {
    "id": "sjyWblCWIBNF"
   },
   "outputs": [],
   "source": [
    "data = pd.read_json(file_data_name)[\"data\"]"
   ]
  },
  {
   "cell_type": "code",
   "execution_count": null,
   "metadata": {
    "id": "3eINZVUaSK14"
   },
   "outputs": [],
   "source": [
    "rows = []\n",
    "for item in data:\n",
    "    title = item.get(\"title\", \"\")\n",
    "    paragraphs = item.get(\"paragraphs\", {})\n",
    "    for qa in paragraphs.get(\"qas\", []):\n",
    "        row = [\n",
    "            title,\n",
    "            qa.get(\"id\", \"\"),\n",
    "            qa.get(\"question\", \"\"),\n",
    "            qa.get(\"answers\", [{}])[0].get(\"text\", \"\"),\n",
    "            qa.get(\"answers\", [{}])[0].get(\"answer_start\", \"\"),\n",
    "            paragraphs.get(\"context\", \"\"),\n",
    "        ]\n",
    "        rows.append(row)\n",
    "\n",
    "# Create a Pandas DataFrame\n",
    "columns = [\"title\", \"id\", \"question\", \"answer_text\", \"answer_start\", \"context\"]\n",
    "df = pd.DataFrame(rows, columns=columns)"
   ]
  },
  {
   "cell_type": "code",
   "execution_count": null,
   "metadata": {
    "id": "Le_6qTyKRmCv"
   },
   "outputs": [],
   "source": [
    "import pandas as pd\n",
    "from sklearn.model_selection import train_test_split\n",
    "\n",
    "# Your DataFrame creation\n",
    "columns = [\"title\", \"id\", \"question\", \"answer_text\", \"answer_start\", \"context\"]\n",
    "df = pd.DataFrame(rows, columns=columns)\n",
    "\n",
    "# Splitting into train and test sets while preserving context uniqueness\n",
    "unique_contexts = df[\"context\"].unique()\n",
    "train_contexts, test_contexts = train_test_split(\n",
    "    unique_contexts, test_size=0.1, random_state=42\n",
    ")\n",
    "\n",
    "train_df = df[df[\"context\"].isin(train_contexts)]\n",
    "test_df = df[df[\"context\"].isin(test_contexts)]"
   ]
  },
  {
   "cell_type": "code",
   "execution_count": null,
   "metadata": {
    "id": "QwOBfc8Vhbdn"
   },
   "outputs": [],
   "source": [
    "arr = list(train_set[\"context\"].unique())"
   ]
  },
  {
   "cell_type": "code",
   "execution_count": null,
   "metadata": {
    "id": "Jd-6kPDDhw9o"
   },
   "outputs": [],
   "source": [
    "test_set[\"context\"].unique()"
   ]
  },
  {
   "cell_type": "markdown",
   "metadata": {
    "id": "-YMfrNT3ityy"
   },
   "source": [
    "# Validation set"
   ]
  },
  {
   "cell_type": "code",
   "execution_count": null,
   "metadata": {
    "id": "AjRHJhUkRb7B"
   },
   "outputs": [],
   "source": [
    "dataset = df"
   ]
  },
  {
   "cell_type": "code",
   "execution_count": null,
   "metadata": {
    "id": "3oNQ2lkEIKry"
   },
   "outputs": [],
   "source": [
    "train_dataset, temp_dataset = train_test_split(dataset, test_size=0.2, random_state=42)\n",
    "validation_dataset, test_dataset = train_test_split(\n",
    "    temp_dataset, test_size=0.5, random_state=42\n",
    ")"
   ]
  },
  {
   "cell_type": "code",
   "execution_count": null,
   "metadata": {
    "id": "TkspknapOEYR"
   },
   "outputs": [],
   "source": [
    "train_df = pd.DataFrame(train_dataset)\n",
    "validation_df = pd.DataFrame(validation_dataset)\n",
    "test_df = pd.DataFrame(test_dataset)"
   ]
  },
  {
   "cell_type": "code",
   "execution_count": null,
   "metadata": {
    "id": "wfVLgOu8Tz8-"
   },
   "outputs": [],
   "source": [
    "train_df = train_df.reset_index(drop=True)\n",
    "validation_df = validation_df.reset_index(drop=True)\n",
    "test_df = test_df.reset_index(drop=True)"
   ]
  },
  {
   "cell_type": "code",
   "execution_count": null,
   "metadata": {
    "colab": {
     "base_uri": "https://localhost:8080/",
     "height": 754
    },
    "id": "H2pG--GiTCfw",
    "outputId": "e59b3386-9765-4237-8f7a-5f8da2d937a1"
   },
   "outputs": [
    {
     "data": {
      "text/html": [
       "\n",
       "  <div id=\"df-2db91d7b-dbca-42c3-b84e-67dcc4cb7576\" class=\"colab-df-container\">\n",
       "    <div>\n",
       "<style scoped>\n",
       "    .dataframe tbody tr th:only-of-type {\n",
       "        vertical-align: middle;\n",
       "    }\n",
       "\n",
       "    .dataframe tbody tr th {\n",
       "        vertical-align: top;\n",
       "    }\n",
       "\n",
       "    .dataframe thead th {\n",
       "        text-align: right;\n",
       "    }\n",
       "</style>\n",
       "<table border=\"1\" class=\"dataframe\">\n",
       "  <thead>\n",
       "    <tr style=\"text-align: right;\">\n",
       "      <th></th>\n",
       "      <th>title</th>\n",
       "      <th>id</th>\n",
       "      <th>question</th>\n",
       "      <th>answer_text</th>\n",
       "      <th>answer_start</th>\n",
       "      <th>context</th>\n",
       "    </tr>\n",
       "  </thead>\n",
       "  <tbody>\n",
       "    <tr>\n",
       "      <th>0</th>\n",
       "      <td>Features and overview</td>\n",
       "      <td>2</td>\n",
       "      <td>What should be done if an opioid thrapy is dis...</td>\n",
       "      <td>plan</td>\n",
       "      <td>127</td>\n",
       "      <td>Opioids are not first-line or routine therapy ...</td>\n",
       "    </tr>\n",
       "    <tr>\n",
       "      <th>1</th>\n",
       "      <td>Features and overview</td>\n",
       "      <td>6</td>\n",
       "      <td>What is not first-line or routine therapy for ...</td>\n",
       "      <td>Opioids</td>\n",
       "      <td>0</td>\n",
       "      <td>Opioids are not first-line or routine therapy ...</td>\n",
       "    </tr>\n",
       "    <tr>\n",
       "      <th>2</th>\n",
       "      <td>Background information</td>\n",
       "      <td>590</td>\n",
       "      <td>Where can the DoD Opioid Prescriber Safety  Tr...</td>\n",
       "      <td>http://opstp.cds.pesgce.com/hub.php</td>\n",
       "      <td>828</td>\n",
       "      <td>The presidential memorandum of October 2015 ma...</td>\n",
       "    </tr>\n",
       "    <tr>\n",
       "      <th>3</th>\n",
       "      <td>Background information</td>\n",
       "      <td>634</td>\n",
       "      <td>Since when has there been a significant increm...</td>\n",
       "      <td>the late 1990s and early 2000s</td>\n",
       "      <td>273</td>\n",
       "      <td>Chronic pain is among the most common, costly,...</td>\n",
       "    </tr>\n",
       "    <tr>\n",
       "      <th>4</th>\n",
       "      <td>Recommendations</td>\n",
       "      <td>842</td>\n",
       "      <td>All patients who take opioids chronically are ...</td>\n",
       "      <td>OUD and overdose</td>\n",
       "      <td>58</td>\n",
       "      <td>All patients who take opioids chronically are ...</td>\n",
       "    </tr>\n",
       "    <tr>\n",
       "      <th>...</th>\n",
       "      <td>...</td>\n",
       "      <td>...</td>\n",
       "      <td>...</td>\n",
       "      <td>...</td>\n",
       "      <td>...</td>\n",
       "      <td>...</td>\n",
       "    </tr>\n",
       "    <tr>\n",
       "      <th>872</th>\n",
       "      <td>Algorithm</td>\n",
       "      <td>466</td>\n",
       "      <td>What is module D for?</td>\n",
       "      <td>patients currently on opioid therapy</td>\n",
       "      <td>16</td>\n",
       "      <td>Module D is for patients currently on opioid t...</td>\n",
       "    </tr>\n",
       "    <tr>\n",
       "      <th>873</th>\n",
       "      <td>Features and overview</td>\n",
       "      <td>121</td>\n",
       "      <td>What to prescribe to patients at increased ris...</td>\n",
       "      <td>naloxone</td>\n",
       "      <td>965</td>\n",
       "      <td>When formulating an opioid taper plan, determi...</td>\n",
       "    </tr>\n",
       "    <tr>\n",
       "      <th>874</th>\n",
       "      <td>Recommendations</td>\n",
       "      <td>1044</td>\n",
       "      <td>Which specific safety precautions should all c...</td>\n",
       "      <td>Transdermal fentanyl should not be used in opi...</td>\n",
       "      <td>413</td>\n",
       "      <td>Given the potential serious risks with startin...</td>\n",
       "    </tr>\n",
       "    <tr>\n",
       "      <th>875</th>\n",
       "      <td>Features and overview</td>\n",
       "      <td>1095</td>\n",
       "      <td>What does the OTRR do?</td>\n",
       "      <td>allows VA providers to review clinical data re...</td>\n",
       "      <td>252</td>\n",
       "      <td>There are electronic tools to facilitate clini...</td>\n",
       "    </tr>\n",
       "    <tr>\n",
       "      <th>876</th>\n",
       "      <td>Recommendations</td>\n",
       "      <td>860</td>\n",
       "      <td>What was the amount of risk of developing OUD ...</td>\n",
       "      <td>far less risk (nearly 1/17)</td>\n",
       "      <td>595</td>\n",
       "      <td>The added risk that younger patients using opi...</td>\n",
       "    </tr>\n",
       "  </tbody>\n",
       "</table>\n",
       "<p>877 rows × 6 columns</p>\n",
       "</div>\n",
       "    <div class=\"colab-df-buttons\">\n",
       "\n",
       "  <div class=\"colab-df-container\">\n",
       "    <button class=\"colab-df-convert\" onclick=\"convertToInteractive('df-2db91d7b-dbca-42c3-b84e-67dcc4cb7576')\"\n",
       "            title=\"Convert this dataframe to an interactive table.\"\n",
       "            style=\"display:none;\">\n",
       "\n",
       "  <svg xmlns=\"http://www.w3.org/2000/svg\" height=\"24px\" viewBox=\"0 -960 960 960\">\n",
       "    <path d=\"M120-120v-720h720v720H120Zm60-500h600v-160H180v160Zm220 220h160v-160H400v160Zm0 220h160v-160H400v160ZM180-400h160v-160H180v160Zm440 0h160v-160H620v160ZM180-180h160v-160H180v160Zm440 0h160v-160H620v160Z\"/>\n",
       "  </svg>\n",
       "    </button>\n",
       "\n",
       "  <style>\n",
       "    .colab-df-container {\n",
       "      display:flex;\n",
       "      gap: 12px;\n",
       "    }\n",
       "\n",
       "    .colab-df-convert {\n",
       "      background-color: #E8F0FE;\n",
       "      border: none;\n",
       "      border-radius: 50%;\n",
       "      cursor: pointer;\n",
       "      display: none;\n",
       "      fill: #1967D2;\n",
       "      height: 32px;\n",
       "      padding: 0 0 0 0;\n",
       "      width: 32px;\n",
       "    }\n",
       "\n",
       "    .colab-df-convert:hover {\n",
       "      background-color: #E2EBFA;\n",
       "      box-shadow: 0px 1px 2px rgba(60, 64, 67, 0.3), 0px 1px 3px 1px rgba(60, 64, 67, 0.15);\n",
       "      fill: #174EA6;\n",
       "    }\n",
       "\n",
       "    .colab-df-buttons div {\n",
       "      margin-bottom: 4px;\n",
       "    }\n",
       "\n",
       "    [theme=dark] .colab-df-convert {\n",
       "      background-color: #3B4455;\n",
       "      fill: #D2E3FC;\n",
       "    }\n",
       "\n",
       "    [theme=dark] .colab-df-convert:hover {\n",
       "      background-color: #434B5C;\n",
       "      box-shadow: 0px 1px 3px 1px rgba(0, 0, 0, 0.15);\n",
       "      filter: drop-shadow(0px 1px 2px rgba(0, 0, 0, 0.3));\n",
       "      fill: #FFFFFF;\n",
       "    }\n",
       "  </style>\n",
       "\n",
       "    <script>\n",
       "      const buttonEl =\n",
       "        document.querySelector('#df-2db91d7b-dbca-42c3-b84e-67dcc4cb7576 button.colab-df-convert');\n",
       "      buttonEl.style.display =\n",
       "        google.colab.kernel.accessAllowed ? 'block' : 'none';\n",
       "\n",
       "      async function convertToInteractive(key) {\n",
       "        const element = document.querySelector('#df-2db91d7b-dbca-42c3-b84e-67dcc4cb7576');\n",
       "        const dataTable =\n",
       "          await google.colab.kernel.invokeFunction('convertToInteractive',\n",
       "                                                    [key], {});\n",
       "        if (!dataTable) return;\n",
       "\n",
       "        const docLinkHtml = 'Like what you see? Visit the ' +\n",
       "          '<a target=\"_blank\" href=https://colab.research.google.com/notebooks/data_table.ipynb>data table notebook</a>'\n",
       "          + ' to learn more about interactive tables.';\n",
       "        element.innerHTML = '';\n",
       "        dataTable['output_type'] = 'display_data';\n",
       "        await google.colab.output.renderOutput(dataTable, element);\n",
       "        const docLink = document.createElement('div');\n",
       "        docLink.innerHTML = docLinkHtml;\n",
       "        element.appendChild(docLink);\n",
       "      }\n",
       "    </script>\n",
       "  </div>\n",
       "\n",
       "\n",
       "<div id=\"df-98beaf10-4f2c-4011-87dd-46815792c681\">\n",
       "  <button class=\"colab-df-quickchart\" onclick=\"quickchart('df-98beaf10-4f2c-4011-87dd-46815792c681')\"\n",
       "            title=\"Suggest charts.\"\n",
       "            style=\"display:none;\">\n",
       "\n",
       "<svg xmlns=\"http://www.w3.org/2000/svg\" height=\"24px\"viewBox=\"0 0 24 24\"\n",
       "     width=\"24px\">\n",
       "    <g>\n",
       "        <path d=\"M19 3H5c-1.1 0-2 .9-2 2v14c0 1.1.9 2 2 2h14c1.1 0 2-.9 2-2V5c0-1.1-.9-2-2-2zM9 17H7v-7h2v7zm4 0h-2V7h2v10zm4 0h-2v-4h2v4z\"/>\n",
       "    </g>\n",
       "</svg>\n",
       "  </button>\n",
       "\n",
       "<style>\n",
       "  .colab-df-quickchart {\n",
       "    background-color: #E8F0FE;\n",
       "    border: none;\n",
       "    border-radius: 50%;\n",
       "    cursor: pointer;\n",
       "    display: none;\n",
       "    fill: #1967D2;\n",
       "    height: 32px;\n",
       "    padding: 0 0 0 0;\n",
       "    width: 32px;\n",
       "  }\n",
       "\n",
       "  .colab-df-quickchart:hover {\n",
       "    background-color: #E2EBFA;\n",
       "    box-shadow: 0px 1px 2px rgba(60, 64, 67, 0.3), 0px 1px 3px 1px rgba(60, 64, 67, 0.15);\n",
       "    fill: #174EA6;\n",
       "  }\n",
       "\n",
       "  [theme=dark] .colab-df-quickchart {\n",
       "    background-color: #3B4455;\n",
       "    fill: #D2E3FC;\n",
       "  }\n",
       "\n",
       "  [theme=dark] .colab-df-quickchart:hover {\n",
       "    background-color: #434B5C;\n",
       "    box-shadow: 0px 1px 3px 1px rgba(0, 0, 0, 0.15);\n",
       "    filter: drop-shadow(0px 1px 2px rgba(0, 0, 0, 0.3));\n",
       "    fill: #FFFFFF;\n",
       "  }\n",
       "</style>\n",
       "\n",
       "  <script>\n",
       "    async function quickchart(key) {\n",
       "      const charts = await google.colab.kernel.invokeFunction(\n",
       "          'suggestCharts', [key], {});\n",
       "    }\n",
       "    (() => {\n",
       "      let quickchartButtonEl =\n",
       "        document.querySelector('#df-98beaf10-4f2c-4011-87dd-46815792c681 button');\n",
       "      quickchartButtonEl.style.display =\n",
       "        google.colab.kernel.accessAllowed ? 'block' : 'none';\n",
       "    })();\n",
       "  </script>\n",
       "</div>\n",
       "    </div>\n",
       "  </div>\n"
      ],
      "text/plain": [
       "                      title    id  \\\n",
       "0     Features and overview     2   \n",
       "1     Features and overview     6   \n",
       "2    Background information   590   \n",
       "3    Background information   634   \n",
       "4           Recommendations   842   \n",
       "..                      ...   ...   \n",
       "872               Algorithm   466   \n",
       "873   Features and overview   121   \n",
       "874         Recommendations  1044   \n",
       "875   Features and overview  1095   \n",
       "876         Recommendations   860   \n",
       "\n",
       "                                              question  \\\n",
       "0    What should be done if an opioid thrapy is dis...   \n",
       "1    What is not first-line or routine therapy for ...   \n",
       "2    Where can the DoD Opioid Prescriber Safety  Tr...   \n",
       "3    Since when has there been a significant increm...   \n",
       "4    All patients who take opioids chronically are ...   \n",
       "..                                                 ...   \n",
       "872                              What is module D for?   \n",
       "873  What to prescribe to patients at increased ris...   \n",
       "874  Which specific safety precautions should all c...   \n",
       "875                             What does the OTRR do?   \n",
       "876  What was the amount of risk of developing OUD ...   \n",
       "\n",
       "                                           answer_text  answer_start  \\\n",
       "0                                                 plan           127   \n",
       "1                                              Opioids             0   \n",
       "2                  http://opstp.cds.pesgce.com/hub.php           828   \n",
       "3                       the late 1990s and early 2000s           273   \n",
       "4                                     OUD and overdose            58   \n",
       "..                                                 ...           ...   \n",
       "872               patients currently on opioid therapy            16   \n",
       "873                                           naloxone           965   \n",
       "874  Transdermal fentanyl should not be used in opi...           413   \n",
       "875  allows VA providers to review clinical data re...           252   \n",
       "876                        far less risk (nearly 1/17)           595   \n",
       "\n",
       "                                               context  \n",
       "0    Opioids are not first-line or routine therapy ...  \n",
       "1    Opioids are not first-line or routine therapy ...  \n",
       "2    The presidential memorandum of October 2015 ma...  \n",
       "3    Chronic pain is among the most common, costly,...  \n",
       "4    All patients who take opioids chronically are ...  \n",
       "..                                                 ...  \n",
       "872  Module D is for patients currently on opioid t...  \n",
       "873  When formulating an opioid taper plan, determi...  \n",
       "874  Given the potential serious risks with startin...  \n",
       "875  There are electronic tools to facilitate clini...  \n",
       "876  The added risk that younger patients using opi...  \n",
       "\n",
       "[877 rows x 6 columns]"
      ]
     },
     "execution_count": 50,
     "metadata": {},
     "output_type": "execute_result"
    }
   ],
   "source": [
    "train_df"
   ]
  },
  {
   "cell_type": "code",
   "execution_count": null,
   "metadata": {
    "id": "8_MYm3GpNVnv"
   },
   "outputs": [],
   "source": [
    "train_ds = Dataset.from_pandas(train_df)\n",
    "validation_ds = Dataset.from_pandas(validation_df)\n",
    "test_ds = Dataset.from_pandas(test_df)"
   ]
  },
  {
   "cell_type": "code",
   "execution_count": null,
   "metadata": {
    "id": "96wE0L_OQ1F6"
   },
   "outputs": [],
   "source": [
    "train_ds"
   ]
  },
  {
   "cell_type": "code",
   "execution_count": null,
   "metadata": {
    "id": "sfFnj75-OLbN"
   },
   "outputs": [],
   "source": [
    "hf_dataset = DatasetDict(\n",
    "    {\"train\": train_ds, \"validation\": validation_ds, \"test\": test_ds}\n",
    ")"
   ]
  },
  {
   "cell_type": "code",
   "execution_count": null,
   "metadata": {
    "id": "guhDMaJVJbr1"
   },
   "outputs": [],
   "source": [
    "hf_dataset.push_to_hub(\"cpgQA-v1.0\")"
   ]
  },
  {
   "cell_type": "markdown",
   "metadata": {
    "id": "DDjVBzA6iyyH"
   },
   "source": [
    "# Unique Context"
   ]
  },
  {
   "cell_type": "code",
   "execution_count": null,
   "metadata": {
    "id": "U7v3tikEjfRu"
   },
   "outputs": [],
   "source": [
    "train_df = train_df.reset_index(drop=True)\n",
    "test_df = test_df.reset_index(drop=True)"
   ]
  },
  {
   "cell_type": "code",
   "execution_count": null,
   "metadata": {
    "id": "E0qIioNqi2IC"
   },
   "outputs": [],
   "source": [
    "train_ds = Dataset.from_pandas(train_df)\n",
    "test_ds = Dataset.from_pandas(test_df)"
   ]
  },
  {
   "cell_type": "code",
   "execution_count": null,
   "metadata": {
    "id": "llzrhyTylEeb"
   },
   "outputs": [],
   "source": [
    "train_df"
   ]
  },
  {
   "cell_type": "code",
   "execution_count": null,
   "metadata": {
    "id": "Aw5BAKCKjDZh"
   },
   "outputs": [],
   "source": [
    "hf_dataset = DatasetDict({\"train\": train_ds, \"test\": test_ds})"
   ]
  },
  {
   "cell_type": "code",
   "execution_count": null,
   "metadata": {
    "id": "bapcAlUvjKtk"
   },
   "outputs": [],
   "source": [
    "hf_dataset.push_to_hub(\"minh21/cpgQA-v1.0-unique-context\")"
   ]
  },
  {
   "cell_type": "markdown",
   "metadata": {
    "id": "H4-saqU5LkSh"
   },
   "source": [
    "# Unique context and clean data exceed token limit of Flan-t5 (512)"
   ]
  },
  {
   "cell_type": "code",
   "execution_count": null,
   "metadata": {
    "id": "2xb7sQF0MKik"
   },
   "outputs": [],
   "source": [
    "train_df = train_df.reset_index(drop=True)\n",
    "test_df = test_df.reset_index(drop=True)"
   ]
  },
  {
   "cell_type": "code",
   "execution_count": null,
   "metadata": {
    "id": "yxLUXqYFMMCF"
   },
   "outputs": [],
   "source": [
    "train_ds = Dataset.from_pandas(train_df)\n",
    "test_ds = Dataset.from_pandas(test_df)"
   ]
  },
  {
   "cell_type": "code",
   "execution_count": null,
   "metadata": {
    "id": "Rv6rFGI0LxHJ"
   },
   "outputs": [],
   "source": [
    "model_name = \"google/flan-t5-large\""
   ]
  },
  {
   "cell_type": "code",
   "execution_count": null,
   "metadata": {
    "id": "HOeVhNRPLq_R"
   },
   "outputs": [],
   "source": [
    "tokenizer = AutoTokenizer.from_pretrained(\n",
    "    model_name, use_fast=True\n",
    ")  # Convert text to vector space"
   ]
  },
  {
   "cell_type": "code",
   "execution_count": null,
   "metadata": {
    "id": "Omgyise_L8Zm"
   },
   "outputs": [],
   "source": [
    "filtered_train = train_ds.filter(\n",
    "    lambda data: len(tokenizer(data[\"context\"] + \"\\n\" + data[\"question\"])[\"input_ids\"])\n",
    "    + 30\n",
    "    < 512\n",
    ")\n",
    "filtered_train\n",
    "\n",
    "filtered_test = test_ds.filter(\n",
    "    lambda data: len(tokenizer(data[\"context\"] + \"\\n\" + data[\"question\"])[\"input_ids\"])\n",
    "    + 30\n",
    "    < 512\n",
    ")\n",
    "filtered_test"
   ]
  },
  {
   "cell_type": "code",
   "execution_count": null,
   "metadata": {
    "id": "xvE-y9orNHln"
   },
   "outputs": [],
   "source": [
    "filtered_test"
   ]
  },
  {
   "cell_type": "code",
   "execution_count": null,
   "metadata": {
    "id": "GXoouI9dNUwH"
   },
   "outputs": [],
   "source": [
    "hf_dataset = DatasetDict({\"train\": filtered_examples, \"test\": test_ds})"
   ]
  },
  {
   "cell_type": "code",
   "execution_count": null,
   "metadata": {
    "colab": {
     "background_save": true
    },
    "id": "Tcc8SNVrNVgk"
   },
   "outputs": [],
   "source": [
    "hf_dataset.push_to_hub(\"minh21/cpgQA-v1.0-unique-context-for-flan-t5\")"
   ]
  }
 ],
 "metadata": {
  "colab": {
   "provenance": []
  },
  "kernelspec": {
   "display_name": "Python 3",
   "name": "python3"
  },
  "language_info": {
   "name": "python"
  }
 },
 "nbformat": 4,
 "nbformat_minor": 0
}